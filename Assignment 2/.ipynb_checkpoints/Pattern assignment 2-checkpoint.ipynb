{
 "cells": [
  {
   "cell_type": "code",
   "execution_count": 3,
   "metadata": {},
   "outputs": [
    {
     "name": "stdout",
     "output_type": "stream",
     "text": [
      "   a  b   c\n",
      "0  1  2   3\n",
      "1  6  7   8\n",
      "2  8  5   4\n",
      "3  1  2   3\n",
      "4  2  3  42\n",
      "enter k= 4\n",
      "   a  b   c   class\n",
      "0  1  2   3  class1\n",
      "3  1  2   3  class1\n",
      "4  2  3  42  class2\n",
      "1  6  7   8  class3\n",
      "2  8  5   4  class4\n",
      "     a    b     c\n",
      "0  1.0  2.0   3.0\n",
      "4  2.0  3.0  42.0\n",
      "1  6.0  7.0   8.0\n",
      "2  8.0  5.0   4.0\n"
     ]
    },
    {
     "name": "stderr",
     "output_type": "stream",
     "text": [
      "c:\\users\\manvendra\\appdata\\local\\programs\\python\\python37-32\\lib\\site-packages\\ipykernel_launcher.py:35: SettingWithCopyWarning: \n",
      "A value is trying to be set on a copy of a slice from a DataFrame.\n",
      "Try using .loc[row_indexer,col_indexer] = value instead\n",
      "\n",
      "See the caveats in the documentation: http://pandas.pydata.org/pandas-docs/stable/user_guide/indexing.html#returning-a-view-versus-a-copy\n"
     ]
    }
   ],
   "source": [
    "import math\n",
    "import random\n",
    "import pandas as pd\n",
    "import random\n",
    "import numpy as np\n",
    "def k_mean(data,k):\n",
    "    q=1\n",
    "    r_mean=data.sample(k)\n",
    "    ind=r_mean.index.tolist()\n",
    "    while q>0:\n",
    "        col=data.columns.tolist()\n",
    "        dist=pd.DataFrame()\n",
    "        for i in range (k):\n",
    "            distance=(data[col] - np.array(r_mean.loc[ind[i]])).pow(2).sum(1).pow(0.5)\n",
    "            v=i+1\n",
    "            v=str(v)          \n",
    "            dist['d'+v]=distance\n",
    "        col_dist=dist.columns.tolist()\n",
    "        #--------------------------------------------------------------------------------------------------\n",
    "        var=pd.DataFrame(dist.idxmin(axis=1),columns=['class'])\n",
    "        u_mean=[]\n",
    "        col.append('class')\n",
    "        new_data=pd.DataFrame(columns=col)\n",
    "        for i in range(k):\n",
    "            index1=(var[var['class']==col_dist[i]]).index.tolist()\n",
    "            cluster=data.loc[data.index.isin(index1)]\n",
    "            m=cluster.mean().tolist()\n",
    "            u_mean.append(m)\n",
    "            l=len(cluster)\n",
    "            list1=[]\n",
    "            for j in range (l):\n",
    "                u=i+1\n",
    "                u=str(u)\n",
    "                list1.append('class'+u)\n",
    "            cluster['class']=list1\n",
    "            new_data=new_data.append(cluster)\n",
    "        col.remove(col[-1])\n",
    "        u_mean=pd.DataFrame(u_mean,columns=col,index=ind)\n",
    "        if r_mean.equals(u_mean):\n",
    "            q=0\n",
    "        else:\n",
    "            r_mean=u_mean\n",
    "        return new_data,u_mean\n",
    "d=pd.DataFrame([[1,2,3],[6,7,8],[8,5,4],[1,2,3],[2,3,42]],columns=['a','b','c'])  \n",
    "print(d)\n",
    "k=int(input('enter k= ' ))\n",
    "[x,mean]=k_mean(d,k)\n",
    "print(x)\n",
    "print(mean)"
   ]
  }
 ],
 "metadata": {
  "kernelspec": {
   "display_name": "Python 3",
   "language": "python",
   "name": "python3"
  },
  "language_info": {
   "codemirror_mode": {
    "name": "ipython",
    "version": 3
   },
   "file_extension": ".py",
   "mimetype": "text/x-python",
   "name": "python",
   "nbconvert_exporter": "python",
   "pygments_lexer": "ipython3",
   "version": "3.7.4"
  }
 },
 "nbformat": 4,
 "nbformat_minor": 2
}
