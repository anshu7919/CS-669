{
 "cells": [
  {
   "cell_type": "code",
   "execution_count": 1,
   "metadata": {},
   "outputs": [],
   "source": [
    "import pandas as pd\n",
    "import numpy as np\n",
    "import matplotlib.pyplot as plt"
   ]
  },
  {
   "cell_type": "code",
   "execution_count": 2,
   "metadata": {},
   "outputs": [
    {
     "data": {
      "text/html": [
       "<div>\n",
       "<style scoped>\n",
       "    .dataframe tbody tr th:only-of-type {\n",
       "        vertical-align: middle;\n",
       "    }\n",
       "\n",
       "    .dataframe tbody tr th {\n",
       "        vertical-align: top;\n",
       "    }\n",
       "\n",
       "    .dataframe thead th {\n",
       "        text-align: right;\n",
       "    }\n",
       "</style>\n",
       "<table border=\"1\" class=\"dataframe\">\n",
       "  <thead>\n",
       "    <tr style=\"text-align: right;\">\n",
       "      <th></th>\n",
       "      <th>X</th>\n",
       "      <th>Y</th>\n",
       "    </tr>\n",
       "  </thead>\n",
       "  <tbody>\n",
       "    <tr>\n",
       "      <td>0</td>\n",
       "      <td>-2.2365</td>\n",
       "      <td>2.3224</td>\n",
       "    </tr>\n",
       "    <tr>\n",
       "      <td>1</td>\n",
       "      <td>2.4445</td>\n",
       "      <td>4.5807</td>\n",
       "    </tr>\n",
       "    <tr>\n",
       "      <td>2</td>\n",
       "      <td>1.8720</td>\n",
       "      <td>1.1315</td>\n",
       "    </tr>\n",
       "    <tr>\n",
       "      <td>3</td>\n",
       "      <td>5.1338</td>\n",
       "      <td>1.0316</td>\n",
       "    </tr>\n",
       "    <tr>\n",
       "      <td>4</td>\n",
       "      <td>2.1731</td>\n",
       "      <td>2.2868</td>\n",
       "    </tr>\n",
       "  </tbody>\n",
       "</table>\n",
       "</div>"
      ],
      "text/plain": [
       "        X       Y\n",
       "0 -2.2365  2.3224\n",
       "1  2.4445  4.5807\n",
       "2  1.8720  1.1315\n",
       "3  5.1338  1.0316\n",
       "4  2.1731  2.2868"
      ]
     },
     "execution_count": 2,
     "metadata": {},
     "output_type": "execute_result"
    }
   ],
   "source": [
    "#class 1 data\n",
    "df=pd.read_csv(\"Class1_.csv\")\n",
    "df.head(5)"
   ]
  },
  {
   "cell_type": "code",
   "execution_count": 3,
   "metadata": {},
   "outputs": [
    {
     "data": {
      "text/html": [
       "<div>\n",
       "<style scoped>\n",
       "    .dataframe tbody tr th:only-of-type {\n",
       "        vertical-align: middle;\n",
       "    }\n",
       "\n",
       "    .dataframe tbody tr th {\n",
       "        vertical-align: top;\n",
       "    }\n",
       "\n",
       "    .dataframe thead th {\n",
       "        text-align: right;\n",
       "    }\n",
       "</style>\n",
       "<table border=\"1\" class=\"dataframe\">\n",
       "  <thead>\n",
       "    <tr style=\"text-align: right;\">\n",
       "      <th></th>\n",
       "      <th>X</th>\n",
       "      <th>Y</th>\n",
       "    </tr>\n",
       "  </thead>\n",
       "  <tbody>\n",
       "    <tr>\n",
       "      <td>0</td>\n",
       "      <td>8.2960</td>\n",
       "      <td>-15.5630</td>\n",
       "    </tr>\n",
       "    <tr>\n",
       "      <td>1</td>\n",
       "      <td>6.1743</td>\n",
       "      <td>-14.7910</td>\n",
       "    </tr>\n",
       "    <tr>\n",
       "      <td>2</td>\n",
       "      <td>8.6760</td>\n",
       "      <td>-17.5040</td>\n",
       "    </tr>\n",
       "    <tr>\n",
       "      <td>3</td>\n",
       "      <td>5.5962</td>\n",
       "      <td>-9.6617</td>\n",
       "    </tr>\n",
       "    <tr>\n",
       "      <td>4</td>\n",
       "      <td>5.3870</td>\n",
       "      <td>-10.5100</td>\n",
       "    </tr>\n",
       "  </tbody>\n",
       "</table>\n",
       "</div>"
      ],
      "text/plain": [
       "        X        Y\n",
       "0  8.2960 -15.5630\n",
       "1  6.1743 -14.7910\n",
       "2  8.6760 -17.5040\n",
       "3  5.5962  -9.6617\n",
       "4  5.3870 -10.5100"
      ]
     },
     "execution_count": 3,
     "metadata": {},
     "output_type": "execute_result"
    }
   ],
   "source": [
    "#class 2 data\n",
    "df1=pd.read_csv(\"Class2_.csv\")\n",
    "df1.head(5)"
   ]
  },
  {
   "cell_type": "code",
   "execution_count": 4,
   "metadata": {},
   "outputs": [],
   "source": [
    "# ls1=[]\n",
    "# ls1.append(df1[df1.columns[0]].min(axis=0))\n",
    "# ls1.append(df[df.columns[0]].min(axis=0))\n",
    "# ls2=[]\n",
    "# ls2.append(df1[df1.columns[0]].max(axis=0))\n",
    "# ls2.append(df[df.columns[0]].max(axis=0))\n",
    "# ls3=[]\n",
    "# ls4=[]\n",
    "# ls3.append(df1[df1.columns[1]].max(axis=0))\n",
    "# ls3.append(df[df.columns[1]].max(axis=0))\n",
    "# ls4.append(df1[df1.columns[1]].min(axis=0))\n",
    "# ls4.append(df[df.columns[1]].min(axis=0))\n",
    "# ls3"
   ]
  },
  {
   "cell_type": "code",
   "execution_count": 5,
   "metadata": {},
   "outputs": [
    {
     "data": {
      "text/plain": [
       "<function matplotlib.pyplot.show(*args, **kw)>"
      ]
     },
     "execution_count": 5,
     "metadata": {},
     "output_type": "execute_result"
    },
    {
     "data": {
      "image/png": "[encoded data removed]",
      "text/plain": [
       "<Figure size 432x288 with 1 Axes>"
      ]
     },
     "metadata": {
      "needs_background": "light"
     },
     "output_type": "display_data"
    }
   ],
   "source": [
    "plt.scatter(df[df.columns[0]],df[df.columns[1]],s=10,c='r')\n",
    "plt.scatter(df1[df1.columns[0]],df1[df1.columns[1]],s=15,c='b')\n",
    "plt.show"
   ]
  },
  {
   "cell_type": "code",
   "execution_count": 6,
   "metadata": {},
   "outputs": [
    {
     "data": {
      "text/html": [
       "<div>\n",
       "<style scoped>\n",
       "    .dataframe tbody tr th:only-of-type {\n",
       "        vertical-align: middle;\n",
       "    }\n",
       "\n",
       "    .dataframe tbody tr th {\n",
       "        vertical-align: top;\n",
       "    }\n",
       "\n",
       "    .dataframe thead th {\n",
       "        text-align: right;\n",
       "    }\n",
       "</style>\n",
       "<table border=\"1\" class=\"dataframe\">\n",
       "  <thead>\n",
       "    <tr style=\"text-align: right;\">\n",
       "      <th></th>\n",
       "      <th>X</th>\n",
       "      <th>Y</th>\n",
       "      <th>Z</th>\n",
       "    </tr>\n",
       "  </thead>\n",
       "  <tbody>\n",
       "    <tr>\n",
       "      <td>0</td>\n",
       "      <td>-2.2365</td>\n",
       "      <td>2.3224</td>\n",
       "      <td>1</td>\n",
       "    </tr>\n",
       "    <tr>\n",
       "      <td>1</td>\n",
       "      <td>2.4445</td>\n",
       "      <td>4.5807</td>\n",
       "      <td>1</td>\n",
       "    </tr>\n",
       "    <tr>\n",
       "      <td>2</td>\n",
       "      <td>1.8720</td>\n",
       "      <td>1.1315</td>\n",
       "      <td>1</td>\n",
       "    </tr>\n",
       "    <tr>\n",
       "      <td>3</td>\n",
       "      <td>5.1338</td>\n",
       "      <td>1.0316</td>\n",
       "      <td>1</td>\n",
       "    </tr>\n",
       "    <tr>\n",
       "      <td>4</td>\n",
       "      <td>2.1731</td>\n",
       "      <td>2.2868</td>\n",
       "      <td>1</td>\n",
       "    </tr>\n",
       "  </tbody>\n",
       "</table>\n",
       "</div>"
      ],
      "text/plain": [
       "        X       Y  Z\n",
       "0 -2.2365  2.3224  1\n",
       "1  2.4445  4.5807  1\n",
       "2  1.8720  1.1315  1\n",
       "3  5.1338  1.0316  1\n",
       "4  2.1731  2.2868  1"
      ]
     },
     "execution_count": 6,
     "metadata": {},
     "output_type": "execute_result"
    }
   ],
   "source": [
    "#class1 adding 1\n",
    "df['Z']=pd.Series(1,index=np.arange(500))\n",
    "df.head(5)"
   ]
  },
  {
   "cell_type": "code",
   "execution_count": 7,
   "metadata": {},
   "outputs": [],
   "source": [
    "#adding of 1 in last column for bias  class2\n",
    "df1['Z']=pd.Series(1,index=np.arange(500))\n",
    "df1.head(5)\n",
    "df0=df1"
   ]
  },
  {
   "cell_type": "code",
   "execution_count": 8,
   "metadata": {},
   "outputs": [
    {
     "data": {
      "text/html": [
       "<div>\n",
       "<style scoped>\n",
       "    .dataframe tbody tr th:only-of-type {\n",
       "        vertical-align: middle;\n",
       "    }\n",
       "\n",
       "    .dataframe tbody tr th {\n",
       "        vertical-align: top;\n",
       "    }\n",
       "\n",
       "    .dataframe thead th {\n",
       "        text-align: right;\n",
       "    }\n",
       "</style>\n",
       "<table border=\"1\" class=\"dataframe\">\n",
       "  <thead>\n",
       "    <tr style=\"text-align: right;\">\n",
       "      <th></th>\n",
       "      <th>X</th>\n",
       "      <th>Y</th>\n",
       "      <th>Z</th>\n",
       "    </tr>\n",
       "  </thead>\n",
       "  <tbody>\n",
       "    <tr>\n",
       "      <td>0</td>\n",
       "      <td>-8.2960</td>\n",
       "      <td>15.5630</td>\n",
       "      <td>-1.0</td>\n",
       "    </tr>\n",
       "    <tr>\n",
       "      <td>1</td>\n",
       "      <td>-6.1743</td>\n",
       "      <td>14.7910</td>\n",
       "      <td>-1.0</td>\n",
       "    </tr>\n",
       "    <tr>\n",
       "      <td>2</td>\n",
       "      <td>-8.6760</td>\n",
       "      <td>17.5040</td>\n",
       "      <td>-1.0</td>\n",
       "    </tr>\n",
       "    <tr>\n",
       "      <td>3</td>\n",
       "      <td>-5.5962</td>\n",
       "      <td>9.6617</td>\n",
       "      <td>-1.0</td>\n",
       "    </tr>\n",
       "    <tr>\n",
       "      <td>4</td>\n",
       "      <td>-5.3870</td>\n",
       "      <td>10.5100</td>\n",
       "      <td>-1.0</td>\n",
       "    </tr>\n",
       "  </tbody>\n",
       "</table>\n",
       "</div>"
      ],
      "text/plain": [
       "        X        Y    Z\n",
       "0 -8.2960  15.5630 -1.0\n",
       "1 -6.1743  14.7910 -1.0\n",
       "2 -8.6760  17.5040 -1.0\n",
       "3 -5.5962   9.6617 -1.0\n",
       "4 -5.3870  10.5100 -1.0"
      ]
     },
     "execution_count": 8,
     "metadata": {},
     "output_type": "execute_result"
    }
   ],
   "source": [
    "#taking negative of data of class 2\n",
    "df1=-df1\n",
    "df1.head(5)"
   ]
  },
  {
   "cell_type": "code",
   "execution_count": 9,
   "metadata": {},
   "outputs": [
    {
     "data": {
      "text/html": [
       "<div>\n",
       "<style scoped>\n",
       "    .dataframe tbody tr th:only-of-type {\n",
       "        vertical-align: middle;\n",
       "    }\n",
       "\n",
       "    .dataframe tbody tr th {\n",
       "        vertical-align: top;\n",
       "    }\n",
       "\n",
       "    .dataframe thead th {\n",
       "        text-align: right;\n",
       "    }\n",
       "</style>\n",
       "<table border=\"1\" class=\"dataframe\">\n",
       "  <thead>\n",
       "    <tr style=\"text-align: right;\">\n",
       "      <th></th>\n",
       "      <th>X</th>\n",
       "      <th>Y</th>\n",
       "      <th>Z</th>\n",
       "    </tr>\n",
       "  </thead>\n",
       "  <tbody>\n",
       "    <tr>\n",
       "      <td>399</td>\n",
       "      <td>5.8757</td>\n",
       "      <td>1.97760</td>\n",
       "      <td>1</td>\n",
       "    </tr>\n",
       "    <tr>\n",
       "      <td>73</td>\n",
       "      <td>1.2926</td>\n",
       "      <td>2.18060</td>\n",
       "      <td>1</td>\n",
       "    </tr>\n",
       "    <tr>\n",
       "      <td>426</td>\n",
       "      <td>1.2372</td>\n",
       "      <td>0.60873</td>\n",
       "      <td>1</td>\n",
       "    </tr>\n",
       "    <tr>\n",
       "      <td>412</td>\n",
       "      <td>2.1437</td>\n",
       "      <td>1.24380</td>\n",
       "      <td>1</td>\n",
       "    </tr>\n",
       "    <tr>\n",
       "      <td>295</td>\n",
       "      <td>2.7407</td>\n",
       "      <td>1.89610</td>\n",
       "      <td>1</td>\n",
       "    </tr>\n",
       "  </tbody>\n",
       "</table>\n",
       "</div>"
      ],
      "text/plain": [
       "          X        Y  Z\n",
       "399  5.8757  1.97760  1\n",
       "73   1.2926  2.18060  1\n",
       "426  1.2372  0.60873  1\n",
       "412  2.1437  1.24380  1\n",
       "295  2.7407  1.89610  1"
      ]
     },
     "execution_count": 9,
     "metadata": {},
     "output_type": "execute_result"
    }
   ],
   "source": [
    "#training data of class1\n",
    "df2=df.sample(frac=.80)\n",
    "df2.head(5)"
   ]
  },
  {
   "cell_type": "code",
   "execution_count": 10,
   "metadata": {},
   "outputs": [
    {
     "data": {
      "text/html": [
       "<div>\n",
       "<style scoped>\n",
       "    .dataframe tbody tr th:only-of-type {\n",
       "        vertical-align: middle;\n",
       "    }\n",
       "\n",
       "    .dataframe tbody tr th {\n",
       "        vertical-align: top;\n",
       "    }\n",
       "\n",
       "    .dataframe thead th {\n",
       "        text-align: right;\n",
       "    }\n",
       "</style>\n",
       "<table border=\"1\" class=\"dataframe\">\n",
       "  <thead>\n",
       "    <tr style=\"text-align: right;\">\n",
       "      <th></th>\n",
       "      <th>X</th>\n",
       "      <th>Y</th>\n",
       "      <th>Z</th>\n",
       "    </tr>\n",
       "  </thead>\n",
       "  <tbody>\n",
       "    <tr>\n",
       "      <td>2</td>\n",
       "      <td>1.87200</td>\n",
       "      <td>1.13150</td>\n",
       "      <td>1</td>\n",
       "    </tr>\n",
       "    <tr>\n",
       "      <td>9</td>\n",
       "      <td>-5.42570</td>\n",
       "      <td>0.87663</td>\n",
       "      <td>1</td>\n",
       "    </tr>\n",
       "    <tr>\n",
       "      <td>23</td>\n",
       "      <td>0.65642</td>\n",
       "      <td>1.88790</td>\n",
       "      <td>1</td>\n",
       "    </tr>\n",
       "    <tr>\n",
       "      <td>28</td>\n",
       "      <td>1.21700</td>\n",
       "      <td>1.27750</td>\n",
       "      <td>1</td>\n",
       "    </tr>\n",
       "    <tr>\n",
       "      <td>32</td>\n",
       "      <td>-2.40150</td>\n",
       "      <td>2.44030</td>\n",
       "      <td>1</td>\n",
       "    </tr>\n",
       "  </tbody>\n",
       "</table>\n",
       "</div>"
      ],
      "text/plain": [
       "          X        Y  Z\n",
       "2   1.87200  1.13150  1\n",
       "9  -5.42570  0.87663  1\n",
       "23  0.65642  1.88790  1\n",
       "28  1.21700  1.27750  1\n",
       "32 -2.40150  2.44030  1"
      ]
     },
     "execution_count": 10,
     "metadata": {},
     "output_type": "execute_result"
    }
   ],
   "source": [
    "#test data of class1\n",
    "ind1=set(df.index.values)\n",
    "ind2=set(df2.index.values)\n",
    "ind3=ind1.symmetric_difference(ind2)\n",
    "df4=df.loc[ind3]\n",
    "df4.head(5)"
   ]
  },
  {
   "cell_type": "code",
   "execution_count": 11,
   "metadata": {},
   "outputs": [
    {
     "data": {
      "text/html": [
       "<div>\n",
       "<style scoped>\n",
       "    .dataframe tbody tr th:only-of-type {\n",
       "        vertical-align: middle;\n",
       "    }\n",
       "\n",
       "    .dataframe tbody tr th {\n",
       "        vertical-align: top;\n",
       "    }\n",
       "\n",
       "    .dataframe thead th {\n",
       "        text-align: right;\n",
       "    }\n",
       "</style>\n",
       "<table border=\"1\" class=\"dataframe\">\n",
       "  <thead>\n",
       "    <tr style=\"text-align: right;\">\n",
       "      <th></th>\n",
       "      <th>X</th>\n",
       "      <th>Y</th>\n",
       "      <th>Z</th>\n",
       "    </tr>\n",
       "  </thead>\n",
       "  <tbody>\n",
       "    <tr>\n",
       "      <td>19</td>\n",
       "      <td>-4.7869</td>\n",
       "      <td>10.7090</td>\n",
       "      <td>-1.0</td>\n",
       "    </tr>\n",
       "    <tr>\n",
       "      <td>435</td>\n",
       "      <td>-6.5224</td>\n",
       "      <td>12.8070</td>\n",
       "      <td>-1.0</td>\n",
       "    </tr>\n",
       "    <tr>\n",
       "      <td>185</td>\n",
       "      <td>-9.4802</td>\n",
       "      <td>14.2650</td>\n",
       "      <td>-1.0</td>\n",
       "    </tr>\n",
       "    <tr>\n",
       "      <td>341</td>\n",
       "      <td>-3.1991</td>\n",
       "      <td>8.6637</td>\n",
       "      <td>-1.0</td>\n",
       "    </tr>\n",
       "    <tr>\n",
       "      <td>335</td>\n",
       "      <td>-6.3448</td>\n",
       "      <td>10.5390</td>\n",
       "      <td>-1.0</td>\n",
       "    </tr>\n",
       "  </tbody>\n",
       "</table>\n",
       "</div>"
      ],
      "text/plain": [
       "          X        Y    Z\n",
       "19  -4.7869  10.7090 -1.0\n",
       "435 -6.5224  12.8070 -1.0\n",
       "185 -9.4802  14.2650 -1.0\n",
       "341 -3.1991   8.6637 -1.0\n",
       "335 -6.3448  10.5390 -1.0"
      ]
     },
     "execution_count": 11,
     "metadata": {},
     "output_type": "execute_result"
    }
   ],
   "source": [
    "#training data of class 2\n",
    "df3=df1.sample(frac=.80)\n",
    "df3.head(5)"
   ]
  },
  {
   "cell_type": "code",
   "execution_count": 12,
   "metadata": {},
   "outputs": [
    {
     "data": {
      "text/html": [
       "<div>\n",
       "<style scoped>\n",
       "    .dataframe tbody tr th:only-of-type {\n",
       "        vertical-align: middle;\n",
       "    }\n",
       "\n",
       "    .dataframe tbody tr th {\n",
       "        vertical-align: top;\n",
       "    }\n",
       "\n",
       "    .dataframe thead th {\n",
       "        text-align: right;\n",
       "    }\n",
       "</style>\n",
       "<table border=\"1\" class=\"dataframe\">\n",
       "  <thead>\n",
       "    <tr style=\"text-align: right;\">\n",
       "      <th></th>\n",
       "      <th>X</th>\n",
       "      <th>Y</th>\n",
       "      <th>Z</th>\n",
       "    </tr>\n",
       "  </thead>\n",
       "  <tbody>\n",
       "    <tr>\n",
       "      <td>1</td>\n",
       "      <td>6.1743</td>\n",
       "      <td>-14.791</td>\n",
       "      <td>1</td>\n",
       "    </tr>\n",
       "    <tr>\n",
       "      <td>4</td>\n",
       "      <td>5.3870</td>\n",
       "      <td>-10.510</td>\n",
       "      <td>1</td>\n",
       "    </tr>\n",
       "    <tr>\n",
       "      <td>12</td>\n",
       "      <td>7.4890</td>\n",
       "      <td>-14.901</td>\n",
       "      <td>1</td>\n",
       "    </tr>\n",
       "    <tr>\n",
       "      <td>30</td>\n",
       "      <td>4.7993</td>\n",
       "      <td>-11.509</td>\n",
       "      <td>1</td>\n",
       "    </tr>\n",
       "    <tr>\n",
       "      <td>35</td>\n",
       "      <td>5.3984</td>\n",
       "      <td>-10.942</td>\n",
       "      <td>1</td>\n",
       "    </tr>\n",
       "  </tbody>\n",
       "</table>\n",
       "</div>"
      ],
      "text/plain": [
       "         X       Y  Z\n",
       "1   6.1743 -14.791  1\n",
       "4   5.3870 -10.510  1\n",
       "12  7.4890 -14.901  1\n",
       "30  4.7993 -11.509  1\n",
       "35  5.3984 -10.942  1"
      ]
     },
     "execution_count": 12,
     "metadata": {},
     "output_type": "execute_result"
    }
   ],
   "source": [
    "#test data of class2\n",
    "ind1_=set(df0.index.values)\n",
    "ind2_=set(df3.index.values)\n",
    "ind3_=ind1_.symmetric_difference(ind2_)\n",
    "df5=df0.loc[ind3_]\n",
    "df5.head(5)\n"
   ]
  },
  {
   "cell_type": "code",
   "execution_count": 13,
   "metadata": {},
   "outputs": [
    {
     "data": {
      "text/html": [
       "<div>\n",
       "<style scoped>\n",
       "    .dataframe tbody tr th:only-of-type {\n",
       "        vertical-align: middle;\n",
       "    }\n",
       "\n",
       "    .dataframe tbody tr th {\n",
       "        vertical-align: top;\n",
       "    }\n",
       "\n",
       "    .dataframe thead th {\n",
       "        text-align: right;\n",
       "    }\n",
       "</style>\n",
       "<table border=\"1\" class=\"dataframe\">\n",
       "  <thead>\n",
       "    <tr style=\"text-align: right;\">\n",
       "      <th></th>\n",
       "      <th>X</th>\n",
       "      <th>Y</th>\n",
       "      <th>Z</th>\n",
       "    </tr>\n",
       "  </thead>\n",
       "  <tbody>\n",
       "    <tr>\n",
       "      <td>0</td>\n",
       "      <td>5.8757</td>\n",
       "      <td>1.97760</td>\n",
       "      <td>1.0</td>\n",
       "    </tr>\n",
       "    <tr>\n",
       "      <td>1</td>\n",
       "      <td>1.2926</td>\n",
       "      <td>2.18060</td>\n",
       "      <td>1.0</td>\n",
       "    </tr>\n",
       "    <tr>\n",
       "      <td>2</td>\n",
       "      <td>1.2372</td>\n",
       "      <td>0.60873</td>\n",
       "      <td>1.0</td>\n",
       "    </tr>\n",
       "    <tr>\n",
       "      <td>3</td>\n",
       "      <td>2.1437</td>\n",
       "      <td>1.24380</td>\n",
       "      <td>1.0</td>\n",
       "    </tr>\n",
       "    <tr>\n",
       "      <td>4</td>\n",
       "      <td>2.7407</td>\n",
       "      <td>1.89610</td>\n",
       "      <td>1.0</td>\n",
       "    </tr>\n",
       "  </tbody>\n",
       "</table>\n",
       "</div>"
      ],
      "text/plain": [
       "        X        Y    Z\n",
       "0  5.8757  1.97760  1.0\n",
       "1  1.2926  2.18060  1.0\n",
       "2  1.2372  0.60873  1.0\n",
       "3  2.1437  1.24380  1.0\n",
       "4  2.7407  1.89610  1.0"
      ]
     },
     "execution_count": 13,
     "metadata": {},
     "output_type": "execute_result"
    }
   ],
   "source": [
    "# data frame including class 1 and class 2\n",
    "D={}\n",
    "lst=['X','Y','Z']\n",
    "for k in range(3):\n",
    "    lst1=df2[df2.columns[k]].tolist()+df3[df3.columns[k]].tolist()\n",
    "    D[lst[k]]=lst1\n",
    "Ds=pd.DataFrame(D)   \n",
    "Ds.head(5)"
   ]
  },
  {
   "cell_type": "code",
   "execution_count": 14,
   "metadata": {},
   "outputs": [],
   "source": [
    "#finding of weighted vector to classify class 1 and class2\n",
    "w=np.array([3,4,-5])\n",
    "n=len(Ds[Ds.columns[0]])\n",
    "i=0\n",
    "lst=[]\n",
    "print(n)\n",
    "while i<n:\n",
    "    s=np.dot(w,Ds.loc[i])\n",
    "    lst.append(s)\n",
    "    if s<0:\n",
    "        w=w+.02*Ds.loc[i]\n",
    "        i=0\n",
    "    else:\n",
    "        i=i+1\n",
    "print(w)\n",
    "print(i)"
   ]
  },
  {
   "cell_type": "code",
   "execution_count": 15,
   "metadata": {},
   "outputs": [
    {
     "data": {
      "text/plain": [
       "X    -0.08253\n",
       "Y     3.86836\n",
       "Z    13.00000\n",
       "dtype: float64"
      ]
     },
     "execution_count": 15,
     "metadata": {},
     "output_type": "execute_result"
    }
   ],
   "source": [
    "#finding of weighted vector to classify class 1 and class2\n",
    "w=np.array([3,4,-5])\n",
    "n=len(Ds[Ds.columns[0]])\n",
    "k=0\n",
    "lst1=[]\n",
    "count=0\n",
    "while k==0:\n",
    "    i=0  \n",
    "    lst=[]\n",
    "    while i<n:        \n",
    "        s=np.dot(w,Ds.loc[i])\n",
    "        lst.append(s)\n",
    "        if s<0:\n",
    "            w=w+1*Ds.loc[i]\n",
    "            i=0\n",
    "            df=np.array(lst)\n",
    "            lst1.append(np.sum(df))\n",
    "            count=count+1\n",
    "            lst=[]\n",
    "            \n",
    "        else:\n",
    "            i=i+1\n",
    "    if i==n:\n",
    "        k=1\n",
    "# print(len(lst1)) \n",
    "# print(count)\n",
    "w"
   ]
  },
  {
   "cell_type": "code",
   "execution_count": 16,
   "metadata": {},
   "outputs": [
    {
     "data": {
      "image/png": "[encoded data removed]",
      "text/plain": [
       "<Figure size 360x360 with 1 Axes>"
      ]
     },
     "metadata": {
      "needs_background": "light"
     },
     "output_type": "display_data"
    }
   ],
   "source": [
    "import matplotlib.pyplot as plt\n",
    "import numpy as np\n",
    "plt.figure(figsize=(5,5))\n",
    "l=len(lst1)\n",
    "x=np.arange(0,l)\n",
    "plt.plot(x,lst1,color='r',linewidth=2.5)\n",
    "plt.show()"
   ]
  },
  {
   "cell_type": "code",
   "execution_count": 17,
   "metadata": {},
   "outputs": [],
   "source": [
    "# import numpy as np\n",
    "# l=df4.index.tolist()\n",
    "# m=df5.index.tolist()\n",
    "# C11=0\n",
    "# C12=0\n",
    "# C=0\n",
    "# C21=0\n",
    "# C22=0\n",
    "# for k in l:\n",
    "#     s1=np.dot(w,df4.loc[k])\n",
    "#     if s1>0:\n",
    "#         C11=C11+1\n",
    "#     elif s1<0:\n",
    "#         C12=C12+1\n",
    "#     else:\n",
    "#         C=C+1\n",
    "# for j in m:\n",
    "#     s1=np.dot(w,df5.loc[j])\n",
    "#     if s1>0:\n",
    "#         C21=C21+1\n",
    "#     elif s1<0:\n",
    "#         C22=C22+1\n",
    "#     else:\n",
    "#         C=C+1        \n",
    "# print(C11)        \n",
    "# print(C12)\n",
    "# print(C21)\n",
    "# print(C22)"
   ]
  },
  {
   "cell_type": "code",
   "execution_count": 18,
   "metadata": {},
   "outputs": [
    {
     "data": {
      "text/plain": [
       "[-5.4926, 6.1355]"
      ]
     },
     "execution_count": 18,
     "metadata": {},
     "output_type": "execute_result"
    }
   ],
   "source": [
    "#findin of min and max value to define range for plotting\n",
    "ls1=[]\n",
    "ls1.append(df5[df5.columns[0]].min(axis=0))\n",
    "ls1.append(df4[df4.columns[0]].min(axis=0))\n",
    "ls2=[]\n",
    "ls2.append(df5[df5.columns[0]].max(axis=0))\n",
    "ls2.append(df4[df4.columns[0]].max(axis=0))\n",
    "ls3=[]\n",
    "ls4=[]\n",
    "ls3.append(df5[df5.columns[1]].max(axis=0))\n",
    "ls3.append(df4[df4.columns[1]].max(axis=0))\n",
    "ls4.append(df5[df5.columns[1]].min(axis=0))\n",
    "ls4.append(df4[df4.columns[1]].min(axis=0))\n",
    "ls3"
   ]
  },
  {
   "cell_type": "code",
   "execution_count": 19,
   "metadata": {},
   "outputs": [
    {
     "data": {
      "image/png": "[encoded data removed]",
      "text/plain": [
       "<Figure size 720x720 with 1 Axes>"
      ]
     },
     "metadata": {
      "needs_background": "light"
     },
     "output_type": "display_data"
    }
   ],
   "source": [
    "#classification of data\n",
    "import matplotlib.pyplot as plt\n",
    "import numpy as np\n",
    "v1=min(ls1)-10\n",
    "v2=max(ls2)+10\n",
    "x=np.linspace(v1,v2,150)\n",
    "slope = -(w[0]/w[1])  \n",
    "intercept = -w[2]/w[1]\n",
    "\n",
    "y=[]\n",
    "for i in x:\n",
    "    s=slope*i+intercept\n",
    "    y.append(s)\n",
    "plt.figure(figsize=(10,10))\n",
    "plt.scatter(df4[df4.columns[0]],df4[df4.columns[1]],s=10,c='r')\n",
    "plt.scatter(df5[df5.columns[0]],df5[df5.columns[1]],s=15,c='b')\n",
    "plt.show    \n",
    "plt.plot(x,y,color='red',linewidth=2.5)\n",
    "plt.show()"
   ]
  }
 ],
 "metadata": {
  "kernelspec": {
   "display_name": "Python 3",
   "language": "python",
   "name": "python3"
  },
  "language_info": {
   "codemirror_mode": {
    "name": "ipython",
    "version": 3
   },
   "file_extension": ".py",
   "mimetype": "text/x-python",
   "name": "python",
   "nbconvert_exporter": "python",
   "pygments_lexer": "ipython3",
   "version": "3.7.4"
  }
 },
 "nbformat": 4,
 "nbformat_minor": 2
}
